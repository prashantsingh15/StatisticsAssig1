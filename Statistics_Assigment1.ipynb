{
 "cells": [
  {
   "cell_type": "markdown",
   "id": "bbaa2ab6",
   "metadata": {},
   "source": [
    "Q1. What is Statistics?\n",
    "\n",
    "Ans --> Statistics is the Science of collecting organizing and analyzing data .\n",
    "\n",
    "Q2. Define the different types of statistics and give an example of when each type might be used.\n",
    "\n",
    "\n",
    "Ans --> There are two types of Statistics --\n",
    "I) Descriptive Statistics -- It consist of organizing an summarizing data. ,1) Measure of Center tendency [Mean , Median ,Mode ] , 2) Measure of Dispersion [Variance , std ] , 3) Different type of Distribution of data. Example - Histogram , PMF , PDF .\n",
    "Example -- suppose there are 20 statistics  classes at your college and you have colleced the height of students in the class .\n",
    "Height are  recorded {175cm , 180cm , 140 cm , 140 cm , 135cm ,160 cm, 135cm , 190cm ] \n",
    "Finding the average height  ( Descrptive Question )\n",
    " \n",
    "II) Infeintial Statistics -- It consist of using data you have measured to form conclusion . \n",
    "\n",
    "Example -- Are the height of the students in classroom similar to what you expect in the entire college ."
   ]
  },
  {
   "cell_type": "markdown",
   "id": "1f5323ef",
   "metadata": {},
   "source": [
    "Q3. What are the different types of data and how do they differ from each other? Provide an example of\n",
    "each type of data.\n",
    "\n",
    "Ans -- > There are two different types of data I) Quantitative data II)  Qualitative Data .\n",
    "Quantitative Data - This is a numerical Value . it is distributed into two types - I) Discrete II)Continous .\n",
    "example -- Height in feet, age in years, and weight in pounds are examples of quantitative data.\n",
    "\n",
    "\n",
    "II)  Qualitative Data -- It is cateogarical data . It is also distributed into two types I) Nominal II) Ordinal .\n",
    "Example --  If the teacher gives feedback based on fluency, intonation, throw of words, clarity in pronunciation without giving a grade to the child ."
   ]
  },
  {
   "cell_type": "markdown",
   "id": "3b89c741",
   "metadata": {},
   "source": [
    "Q4. Categorise the following datasets with respect to quantitative and qualitative data types:\n",
    "(i) Grading in exam: A+, A, B+, B, C+, C, D, E\n",
    "(ii) Colour of mangoes: yellow, green, orange, red\n",
    "(iii) Height data of a class: [178.9, 179, 179.5, 176, 177.2, 178.3, 175.8,...]\n",
    "(iv) Number of mangoes exported by a farm: [500, 600, 478, 672, ...]\n",
    "\n",
    "Ans --> \n",
    "\n",
    "i) Grading in exam: A+, A, B+, B, C+, C, D, E\n",
    "\n",
    "Data type: Qualitative .\n",
    "\n",
    "\n",
    "(ii) Colour of mangoes: yellow, green, orange, red\n",
    "\n",
    "Data type: Qualitative\n",
    "(iii) Height data of a class: [178.9, 179, 179.5, 176, 177.2, 178.3, 175.8,...]\n",
    "\n",
    "Data type: Quantitative .\n",
    "\n",
    "(iv) Number of mangoes exported by a farm: [500, 600, 478, 672, ...]\n",
    "\n",
    "Data type: Quantitative"
   ]
  },
  {
   "cell_type": "markdown",
   "id": "5cb72059",
   "metadata": {},
   "source": [
    "Q5. Explain the concept of levels of measurement and give an example of a variable for each level."
   ]
  },
  {
   "cell_type": "markdown",
   "id": "b065bd31",
   "metadata": {},
   "source": [
    "Levels of measurement refer to the different types or levels of data that can be collected and analyzed in statistical research. There are four levels of measurement: nominal, ordinal, interval, and ratio.\n",
    "\n",
    "Nominal: The nominal level of measurement is the lowest level and represents data that can be classified into categories or labeled. It does not have any numerical value or order associated with it. Examples of nominal variables include gender, race, nationality, and color.\n",
    "\n",
    "Ordinal: The ordinal level of measurement represents data that can be ranked or ordered, but the differences between values cannot be measured or compared quantitatively. Examples of ordinal variables include ranking systems such as movie ratings (e.g., 1 star, 2 stars, 3 stars, etc.), customer satisfaction ratings (e.g., very satisfied, satisfied, neutral, dissatisfied, very dissatisfied), and education levels (e.g., high school diploma, associate's degree, bachelor's degree, master's degree, etc.).\n",
    "\n",
    "Interval: The interval level of measurement represents data that can be measured on a numerical scale where the differences between values are meaningful, but there is no true zero point. Examples of interval variables include temperature (in Celsius or Fahrenheit), years (e.g., 1990, 2000, 2010, etc.), and IQ scores.\n",
    "\n",
    "Ratio: The ratio level of measurement represents data that can be measured on a numerical scale where the differences between values are meaningful and there is a true zero point. Examples of ratio variables include height, weight, age, distance, and time."
   ]
  },
  {
   "cell_type": "markdown",
   "id": "a5f7fbfd",
   "metadata": {},
   "source": [
    "Q6. Why is it important to understand the level of measurement when analyzing data? Provide an\n",
    "example to illustrate your answer."
   ]
  },
  {
   "cell_type": "markdown",
   "id": "e692e609",
   "metadata": {},
   "source": [
    "It is important to understand the level of measurement when analyzing data because it determines the type of statistical analysis that can be performed, the appropriate measures of central tendency and dispersion, and the types of conclusions that can be drawn from the data.\n",
    "\n",
    "For example, let's say a researcher collected data on the color of cars in a parking lot. If the researcher analyzed this data using measures of central tendency and dispersion designed for quantitative data, such as the mean and standard deviation, the results would be meaningless since color is a qualitative variable at the nominal level of measurement. Instead, the researcher should use measures designed for categorical data, such as the mode and frequency tables."
   ]
  },
  {
   "cell_type": "markdown",
   "id": "467dac9c",
   "metadata": {},
   "source": [
    "Q7. How nominal data type is different from ordinal data type."
   ]
  },
  {
   "cell_type": "markdown",
   "id": "938b4c08",
   "metadata": {},
   "source": [
    "Nominal data represents categorical variables that cannot be ordered or ranked, while ordinal data represents categorical variables that can be ordered or ranked. In other words, nominal data has no inherent order, while ordinal data does. Nominal data is at the lowest level of measurement, while ordinal data is at a higher level."
   ]
  },
  {
   "cell_type": "markdown",
   "id": "05764b80",
   "metadata": {},
   "source": [
    "Q8. Which type of plot can be used to display data in terms of range?"
   ]
  },
  {
   "cell_type": "markdown",
   "id": "08e08618",
   "metadata": {},
   "source": [
    "Ans - Box Plot Is used to display data in terms of range"
   ]
  },
  {
   "cell_type": "code",
   "execution_count": null,
   "id": "3738743a",
   "metadata": {},
   "outputs": [],
   "source": []
  },
  {
   "cell_type": "markdown",
   "id": "5ff3875a",
   "metadata": {},
   "source": [
    "Ans -- Descriptive statistics is used to summarize and describe data, while inferential statistics is used to make inferences and draw conclusions about populations based on sample data.\n",
    "\n",
    "Examples -- Descriptive statistics:\n",
    "\n",
    "A researcher collects data on the heights of 50 students in a class and calculates the mean height to be 170 cm with a standard deviation of 5 cm. This provides a summary of the central tendency and spread of the heights in the sample.\n",
    "\n",
    "Example ---  Inferential statistics:\n",
    "\n",
    "A political polling company surveys a random sample of 1000 voters to determine the percentage of voters who support a particular candidate in an upcoming election. Based on the results of the sample, the company can infer the percentage of voters in the population who support the candidate."
   ]
  },
  {
   "cell_type": "markdown",
   "id": "064c76bd",
   "metadata": {},
   "source": [
    "Q10. What are some common measures of central tendency and variability used in statistics? Explain\n",
    "how each measure can be used to describe a dataset."
   ]
  },
  {
   "cell_type": "markdown",
   "id": "dfed82e9",
   "metadata": {},
   "source": [
    "e common measures of central tendency and variability used in statistics are:\n",
    "\n",
    "Measures of central tendency:\n",
    "\n",
    "Mean: The arithmetic average of a dataset. It represents the center of the data and is affected by outliers.\n",
    "Median: The middle value of a dataset when it is ordered from smallest to largest. It represents the midpoint of the data and is not affected by outliers.\n",
    "Mode: The most frequently occurring value in a dataset. It represents the peak of the data and can be used for both categorical and numerical data.\n",
    "Measures of variability:\n",
    "\n",
    "Range: The difference between the maximum and minimum values in a dataset. It represents the spread of the data and is affected by outliers.\n",
    "Variance: A measure of how spread out the data is from the mean. It represents the average distance of each data point from the mean and is affected by outliers.\n",
    "Standard deviation: The square root of the variance. It represents the typical distance of each data point from the mean and is affected by outliers."
   ]
  },
  {
   "cell_type": "code",
   "execution_count": null,
   "id": "92ee95eb",
   "metadata": {},
   "outputs": [],
   "source": []
  }
 ],
 "metadata": {
  "kernelspec": {
   "display_name": "Python 3 (ipykernel)",
   "language": "python",
   "name": "python3"
  },
  "language_info": {
   "codemirror_mode": {
    "name": "ipython",
    "version": 3
   },
   "file_extension": ".py",
   "mimetype": "text/x-python",
   "name": "python",
   "nbconvert_exporter": "python",
   "pygments_lexer": "ipython3",
   "version": "3.11.2"
  }
 },
 "nbformat": 4,
 "nbformat_minor": 5
}
